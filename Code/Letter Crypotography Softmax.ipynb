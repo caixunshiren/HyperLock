{
 "cells": [
  {
   "cell_type": "code",
   "execution_count": 131,
   "metadata": {},
   "outputs": [
    {
     "data": {
      "text/plain": [
       "<torch._C.Generator at 0x18299e7f1d0>"
      ]
     },
     "execution_count": 131,
     "metadata": {},
     "output_type": "execute_result"
    }
   ],
   "source": [
    "import torch\n",
    "import torchvision\n",
    "import torchvision.transforms as transforms\n",
    "import torch.nn as nn\n",
    "import torch.nn.functional as F\n",
    "import numpy as np\n",
    "torch.cuda.empty_cache()\n",
    "\n",
    "random_seed = 0\n",
    "torch.manual_seed(random_seed)"
   ]
  },
  {
   "cell_type": "code",
   "execution_count": 132,
   "metadata": {},
   "outputs": [],
   "source": [
    "classes = 94\n",
    "skdim = 10\n",
    "noise = 0.5\n",
    "dim_multiplier = 10\n",
    "import os    \n",
    "os.environ['KMP_DUPLICATE_LIB_OK']='True'"
   ]
  },
  {
   "cell_type": "code",
   "execution_count": 133,
   "metadata": {},
   "outputs": [],
   "source": [
    "def uniform_initializer(out_dim, in_dim, cuda = True):\n",
    "    tensor = torch.empty(out_dim, in_dim)\n",
    "    if cuda:\n",
    "        return torch.nn.init.uniform_(tensor, a=-2, b=2).cuda()\n",
    "    else: \n",
    "        return torch.nn.init.uniform_(tensor, a=-2, b=2)\n",
    "\n",
    "def uniform_initializer2(out_dim, in_dim, cuda = True):\n",
    "    tensor = torch.empty(out_dim, in_dim)\n",
    "    if cuda:\n",
    "        return torch.nn.init.uniform_(tensor, a=-0.5, b=0.5).cuda()\n",
    "    else: \n",
    "        return torch.nn.init.uniform_(tensor, a=-0.5, b=0.5)"
   ]
  },
  {
   "cell_type": "code",
   "execution_count": 134,
   "metadata": {},
   "outputs": [
    {
     "name": "stdout",
     "output_type": "stream",
     "text": [
      "torch.Size([10, 94])\n"
     ]
    }
   ],
   "source": [
    "#secret keys\n",
    "#ascii 0-94\n",
    "secret_key = uniform_initializer(skdim, classes)\n",
    "print(secret_key.shape)"
   ]
  },
  {
   "cell_type": "code",
   "execution_count": 135,
   "metadata": {},
   "outputs": [],
   "source": [
    "# noise \n",
    "def apply_gaussian_noise(tensor, sd, device = torch.device(\"cuda:0\")):\n",
    "    tensor = tensor + (sd)*torch.randn(*tuple(tensor.shape)).to(device)\n",
    "    return tensor\n",
    "\n",
    "class simple_encoder_wthreshold():\n",
    "    def __init__(self, out_dim, in_dim, epsilon, cuda = True):\n",
    "        self.in_dim = in_dim\n",
    "        self.out_dim = out_dim\n",
    "        self.W = uniform_initializer(out_dim, in_dim, cuda)\n",
    "        self.device = torch.device(\"cuda:0\") if cuda else torch.device(\"cpu\")\n",
    "        self.epsilon = epsilon\n",
    "        \n",
    "    def apply(self, X):\n",
    "        return (torch.matmul(self.W, X) > self.epsilon).float()\n",
    "    \n",
    "    def apply_wnoise(self, X, sd):\n",
    "        #print(X.shape, self.W.shape)\n",
    "        if sd == 0:\n",
    "            return self.apply(X)\n",
    "        return (torch.matmul(apply_gaussian_noise(self.W, sd, device = self.device), X) > self.epsilon).float()\n",
    "    \n",
    "    def apply_wnoise_realistic(self, X, sd):\n",
    "        #print(X.shape, self.W.shape)\n",
    "        if sd == 0:\n",
    "            return self.apply(X)\n",
    "        encoded = torch.zeros((self.out_dim, X.shape[1])).to(self.device)\n",
    "        for i in range(X.shape[1]):\n",
    "            encoded[:,i] = (torch.matmul(apply_gaussian_noise(self.W, sd, device = self.device), X[:,i].view(-1,1)) > self.epsilon).float().view(-1)\n",
    "        return encoded\n",
    "    \n"
   ]
  },
  {
   "cell_type": "code",
   "execution_count": 136,
   "metadata": {},
   "outputs": [],
   "source": [
    "#One hot net    \n",
    "\n",
    "class One_hot_net(nn.Module):\n",
    "    def __init__(self, in_dim, n_class, f_encoder, encoder_multiplier, f_initializer, epsilon):\n",
    "        super(One_hot_net, self).__init__()\n",
    "        self.in_dim = in_dim\n",
    "        feature_len = in_dim * encoder_multiplier\n",
    "        self.feature_len = feature_len\n",
    "        self.epsilon = epsilon\n",
    "        self.n_class = n_class\n",
    "        self.f_encoder = f_encoder\n",
    "        self.f_initializer = f_initializer\n",
    "        self.tail = nn.Linear(feature_len, n_class)\n",
    "        self.output = nn.LogSoftmax(dim=1)\n",
    "\n",
    "    def forward(self, X):\n",
    "        X = self.f_encoder.apply_wnoise(X, noise)\n",
    "        X = torch.transpose(X, 0, 1)\n",
    "        X = self.tail(X)\n",
    "        #print(X.shape)\n",
    "        X = self.output(X)\n",
    "        #print(X.shape)\n",
    "        return X\n",
    "    \n",
    "    def decrypt(self, X):\n",
    "        X = torch.transpose(X, 0, 1)\n",
    "        X = self.tail(X)\n",
    "        #print(X.shape)\n",
    "        X = self.output(X)\n",
    "        #print(X.shape)\n",
    "        return X"
   ]
  },
  {
   "cell_type": "code",
   "execution_count": 137,
   "metadata": {},
   "outputs": [],
   "source": [
    "parameters = {\n",
    "    'in_dim': skdim,\n",
    "    'n_class': classes,\n",
    "    'f_encoder': simple_encoder_wthreshold(skdim*dim_multiplier, skdim, 0),\n",
    "    'f_initializer': uniform_initializer,\n",
    "    'encoder_multiplier': dim_multiplier,\n",
    "    'epsilon': 0,\n",
    "    'n_layers': 1,\n",
    "    'layer_size_factor': [1],\n",
    "    'dropout': [-1]\n",
    "}"
   ]
  },
  {
   "cell_type": "code",
   "execution_count": 138,
   "metadata": {},
   "outputs": [],
   "source": [
    "device = torch.device(\"cuda:0\")\n",
    "model1 = One_hot_net(parameters['in_dim'], parameters['n_class'], parameters['f_encoder'], parameters['encoder_multiplier'], \n",
    "                     parameters['f_initializer'], parameters['epsilon']).to(device)\n",
    "\n",
    "optimizer1 = torch.optim.SGD(model1.parameters(), lr=0.5, momentum=0.5)\n"
   ]
  },
  {
   "cell_type": "code",
   "execution_count": 139,
   "metadata": {},
   "outputs": [
    {
     "name": "stdout",
     "output_type": "stream",
     "text": [
      "torch.Size([10, 50]) torch.Size([50]) tensor([60,  9, 79, 58, 52, 49, 39, 64, 79, 37, 67, 74, 66, 47, 63, 51, 76, 33,\n",
      "        53, 54,  2, 58, 14, 70, 37, 59, 10, 68, 77, 63, 60, 19, 89, 60,  2, 46,\n",
      "        48, 63, 55, 83, 42, 39, 44, 75,  5, 83, 29, 72, 15, 30])\n"
     ]
    }
   ],
   "source": [
    "#create training and testing set\n",
    "def make_data(size, classes = classes):\n",
    "    data = torch.rand(size) * classes\n",
    "    return data.long()#, F.one_hot(data.long(), num_classes=classes)\n",
    "\n",
    "n_epochs = 10\n",
    "n_batch = 2000\n",
    "batch_size_train = 50\n",
    "batch_size_test = 50\n",
    "\n",
    "train_loader = []\n",
    "test_loader = []\n",
    "for i in range(n_batch):\n",
    "    #train\n",
    "    indices = make_data(batch_size_train)\n",
    "    train_loader.append((secret_key[:, indices], indices))\n",
    "    \n",
    "    #test\n",
    "    indices = make_data(batch_size_train)\n",
    "    test_loader.append((secret_key[:, indices], indices))\n",
    "\n",
    "#train_loader = [secret_key[:, make_data(batch_size_train)] for i in range(n_batch)]\n",
    "#test_loader = [secret_key[:, make_data(batch_size_test)] for i in range(n_batch)]\n",
    "\n",
    "print(train_loader[0][0].shape, train_loader[0][1].shape, train_loader[0][1])"
   ]
  },
  {
   "cell_type": "code",
   "execution_count": 140,
   "metadata": {},
   "outputs": [],
   "source": [
    "train_losses = []\n",
    "test_losses = []"
   ]
  },
  {
   "cell_type": "code",
   "execution_count": 141,
   "metadata": {},
   "outputs": [],
   "source": [
    "def train(epoch, model, optimizer, trainloader, log_interval = 10, device = torch.device(\"cuda:0\")):\n",
    "    model.train()\n",
    "    train_loss = 0\n",
    "    for batch_idx, data_set in enumerate(train_loader):\n",
    "        data = data_set[0].to(device)\n",
    "        labels = data_set[1].to(device)\n",
    "        optimizer.zero_grad()\n",
    "        output = model(data)\n",
    "        #print(output.shape, output)\n",
    "        loss = F.nll_loss(output, labels)\n",
    "        loss.backward()\n",
    "        optimizer.step()\n",
    "        train_loss += loss\n",
    "    train_loss /= len(train_loader)\n",
    "    train_losses.append(float(train_loss))\n",
    "    print('Epoch: {}, Train set: Avg. loss: {:.6f}'.format(epoch,\n",
    "        train_loss))\n",
    "    return model, optimizer\n",
    "def test(model, test_loader, device = torch.device(\"cuda:0\")):\n",
    "    model.eval()\n",
    "    test_loss = 0\n",
    "    with torch.no_grad():\n",
    "        for data_set in test_loader:\n",
    "            data = data_set[0].to(device)\n",
    "            labels = data_set[1].to(device)\n",
    "            output = model(data)\n",
    "            test_loss += F.nll_loss(output, labels).item()\n",
    "    test_loss /= len(test_loader)\n",
    "    test_losses.append(float(test_loss))\n",
    "    #print(output[:,0]-data[:,0])\n",
    "    print('Test set: Avg. loss: {:.6f}'.format(\n",
    "        test_loss))\n",
    "    return test_loss"
   ]
  },
  {
   "cell_type": "code",
   "execution_count": 142,
   "metadata": {},
   "outputs": [
    {
     "name": "stdout",
     "output_type": "stream",
     "text": [
      "Epoch: 1, Train set: Avg. loss: 0.120309\n",
      "Test set: Avg. loss: 0.018157\n",
      "Epoch: 2, Train set: Avg. loss: 0.013416\n",
      "Test set: Avg. loss: 0.010416\n",
      "Epoch: 3, Train set: Avg. loss: 0.008817\n",
      "Test set: Avg. loss: 0.007514\n",
      "Epoch: 4, Train set: Avg. loss: 0.007060\n",
      "Test set: Avg. loss: 0.006306\n",
      "Epoch: 5, Train set: Avg. loss: 0.005877\n",
      "Test set: Avg. loss: 0.005439\n",
      "Epoch: 6, Train set: Avg. loss: 0.005042\n",
      "Test set: Avg. loss: 0.004830\n",
      "Epoch: 7, Train set: Avg. loss: 0.004355\n",
      "Test set: Avg. loss: 0.004209\n",
      "Epoch: 8, Train set: Avg. loss: 0.004204\n",
      "Test set: Avg. loss: 0.003919\n",
      "Epoch: 9, Train set: Avg. loss: 0.003829\n",
      "Test set: Avg. loss: 0.003341\n",
      "Epoch: 10, Train set: Avg. loss: 0.003396\n",
      "Test set: Avg. loss: 0.003326\n"
     ]
    }
   ],
   "source": [
    "model_name = \"crypto_net1\"\n",
    "for epoch in range(1, n_epochs + 1):\n",
    "    train(epoch, model1, optimizer1, train_loader)\n",
    "    test(model1, test_loader)"
   ]
  },
  {
   "cell_type": "code",
   "execution_count": 143,
   "metadata": {},
   "outputs": [
    {
     "data": {
      "image/png": "[encoded data removed]",
      "text/plain": [
       "<Figure size 432x288 with 1 Axes>"
      ]
     },
     "metadata": {
      "needs_background": "light"
     },
     "output_type": "display_data"
    }
   ],
   "source": [
    "import matplotlib.pyplot as plt\n",
    "\n",
    "plt.plot(range(len(train_losses)), train_losses, color='blue')\n",
    "plt.scatter(range(len(test_losses)), test_losses, color='red')\n",
    "plt.legend(['Train Loss', 'Test Loss'], loc='upper right')\n",
    "plt.xlabel('number of training epochs')\n",
    "plt.ylabel('MSE loss')\n",
    "plt.show()"
   ]
  },
  {
   "cell_type": "code",
   "execution_count": 151,
   "metadata": {},
   "outputs": [],
   "source": [
    "#Testing Encoded sentence\n",
    "#message = \"It is time to test the model on real-world data\"#. We must choose a sentence and an image. We choose the following sentence from Wikipedia: Anthony Edward \\\"Tony\\\" Stark is a character portrayed by Robert Downey Jr. in the MCU film franchise and for the image, we use the same Tony Stark’s image from the beginning of the article. The following code is used to embedding and extracting the message:\"\n",
    "message = \"abcdefghijklmnopqrestuvwxyzABCDEFGHIJKLMNOPQRSTUVWXYZ\""
   ]
  },
  {
   "cell_type": "code",
   "execution_count": null,
   "metadata": {},
   "outputs": [],
   "source": []
  },
  {
   "cell_type": "code",
   "execution_count": 152,
   "metadata": {},
   "outputs": [],
   "source": [
    "def encrypt(message, model, secret_key, n = noise):\n",
    "    message_index = [(ord(c)-32) for c in message]\n",
    "    #print(message_index)\n",
    "    #print(secret_key)\n",
    "    #sk = secret_key.cpu()\n",
    "    #print(sk.shape, sk.device)\n",
    "    secret_message = secret_key[:, message_index]#.to(device)\n",
    "    #print(secret_message[:,0])\n",
    "    return model.f_encoder.apply_wnoise_realistic(secret_message, n)"
   ]
  },
  {
   "cell_type": "code",
   "execution_count": 157,
   "metadata": {},
   "outputs": [],
   "source": [
    "encrypted_message = encrypt(message, model1, secret_key, n = noise)"
   ]
  },
  {
   "cell_type": "code",
   "execution_count": 158,
   "metadata": {},
   "outputs": [
    {
     "name": "stdout",
     "output_type": "stream",
     "text": [
      "tensor([[1., 1., 1.,  ..., 0., 1., 0.],\n",
      "        [0., 1., 1.,  ..., 1., 1., 0.],\n",
      "        [1., 1., 0.,  ..., 0., 1., 1.],\n",
      "        ...,\n",
      "        [0., 0., 1.,  ..., 1., 0., 1.],\n",
      "        [1., 0., 1.,  ..., 1., 1., 0.],\n",
      "        [0., 0., 1.,  ..., 1., 1., 1.]], device='cuda:0') torch.Size([100, 53]) tensor(6., device='cuda:0')\n"
     ]
    }
   ],
   "source": [
    "print(encrypted_message, encrypted_message.shape, torch.sum(encrypted_message[:,-1]-encrypted_message[:,-2]))\n",
    "#plt.imshow(encrypted_message.cpu().detach().numpy(),  cmap=plt.cm.gray)\n"
   ]
  },
  {
   "cell_type": "code",
   "execution_count": 159,
   "metadata": {},
   "outputs": [],
   "source": [
    "def determine_letter(one_hots):\n",
    "    ind = torch.argmax(one_hots, dim=1)\n",
    "    m = \"\"\n",
    "    for i in ind:\n",
    "        m += chr(int(i)+32)\n",
    "    return m\n",
    "\n",
    "def decrypt(encrypted_message, model, secret_key):\n",
    "    raw_m = model.decrypt(encrypted_message)\n",
    "    m = determine_letter(raw_m)\n",
    "    return m"
   ]
  },
  {
   "cell_type": "code",
   "execution_count": 160,
   "metadata": {},
   "outputs": [
    {
     "name": "stdout",
     "output_type": "stream",
     "text": [
      "abcdefghijklmnopqrestuvwxyzABCDEFGHIJKLMNOPQRSTUVWXYZ\n",
      "decryption accuracy is 100.0%\n"
     ]
    }
   ],
   "source": [
    "decrypted_m = decrypt(encrypted_message, model1, secret_key)\n",
    "print(decrypted_m)\n",
    "def decryption_accuracy(message, decrypted_message):\n",
    "    count = 0\n",
    "    for i in range(len(message)):\n",
    "        if message[i] == decrypted_message[i]:\n",
    "            count+=1\n",
    "    return count/len(message) * 100\n",
    "print(\"decryption accuracy is {}%\".format(round(decryption_accuracy(message, decrypted_m), 2)))"
   ]
  },
  {
   "cell_type": "code",
   "execution_count": null,
   "metadata": {},
   "outputs": [],
   "source": []
  },
  {
   "cell_type": "code",
   "execution_count": 161,
   "metadata": {},
   "outputs": [
    {
     "data": {
      "image/png": "[encoded data removed]",
      "text/plain": [
       "<Figure size 432x288 with 2 Axes>"
      ]
     },
     "metadata": {
      "needs_background": "light"
     },
     "output_type": "display_data"
    },
    {
     "data": {
      "image/png": "[encoded data removed]",
      "text/plain": [
       "<Figure size 432x288 with 2 Axes>"
      ]
     },
     "metadata": {
      "needs_background": "light"
     },
     "output_type": "display_data"
    },
    {
     "data": {
      "image/png": "[encoded data removed]",
      "text/plain": [
       "<Figure size 432x288 with 2 Axes>"
      ]
     },
     "metadata": {
      "needs_background": "light"
     },
     "output_type": "display_data"
    }
   ],
   "source": [
    "#Visualize variance caused by noise\n",
    "def visualize(message, model, secret_key, n = noise):\n",
    "    encrypted_message = encrypt(message, model, secret_key, n = n)\n",
    "    #print(encrypted_message)\n",
    "    #print(torch.sum(encrypted_message[:,1]-encrypted_message[:,0]))\n",
    "    plt.imshow(encrypted_message.cpu().detach().numpy(),  cmap=plt.cm.gray)\n",
    "    plt.colorbar()\n",
    "    plt.show()\n",
    "\n",
    "visualize(\"a\"*200+\"b\"*200+\"c\"*200+\"d\"*200+\"e\"*200, model1, secret_key, n = 0)\n",
    "visualize(\"a\"*200+\"b\"*200+\"c\"*200+\"d\"*200+\"e\"*200, model1, secret_key, n = noise)\n",
    "visualize(\"a\"*200+\"b\"*200+\"c\"*200+\"d\"*200+\"e\"*200, model1, secret_key, n = 2.5)"
   ]
  },
  {
   "cell_type": "code",
   "execution_count": 130,
   "metadata": {},
   "outputs": [],
   "source": [
    "#message_index = [(ord(c)-32) for c in message]\n",
    "#print(message_index)\n",
    "#secret_message = secret_key[:, message_index]#.to(device)\n",
    "#output = model1(secret_message)\n",
    "#print(output[:,0]-secret_message[:,0])"
   ]
  },
  {
   "cell_type": "code",
   "execution_count": null,
   "metadata": {},
   "outputs": [],
   "source": []
  }
 ],
 "metadata": {
  "kernelspec": {
   "display_name": "Python 3",
   "language": "python",
   "name": "python3"
  },
  "language_info": {
   "codemirror_mode": {
    "name": "ipython",
    "version": 3
   },
   "file_extension": ".py",
   "mimetype": "text/x-python",
   "name": "python",
   "nbconvert_exporter": "python",
   "pygments_lexer": "ipython3",
   "version": "3.8.5"
  }
 },
 "nbformat": 4,
 "nbformat_minor": 4
}
