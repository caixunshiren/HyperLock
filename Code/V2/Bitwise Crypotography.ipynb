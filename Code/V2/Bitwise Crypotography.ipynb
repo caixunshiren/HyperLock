{
 "cells": [
  {
   "cell_type": "code",
   "execution_count": 118,
   "metadata": {},
   "outputs": [
    {
     "data": {
      "text/plain": [
       "<torch._C.Generator at 0x1b053357370>"
      ]
     },
     "execution_count": 118,
     "metadata": {},
     "output_type": "execute_result"
    }
   ],
   "source": [
    "import torch\n",
    "import torchvision\n",
    "import torchvision.transforms as transforms\n",
    "import torch.nn as nn\n",
    "import torch.nn.functional as F\n",
    "import numpy as np\n",
    "torch.cuda.empty_cache()\n",
    "\n",
    "random_seed = 0\n",
    "torch.manual_seed(random_seed)"
   ]
  },
  {
   "cell_type": "code",
   "execution_count": 119,
   "metadata": {},
   "outputs": [],
   "source": [
    "key_length = 32\n",
    "noise = 0\n",
    "dim_multiplier = 100\n",
    "import os    \n",
    "os.environ['KMP_DUPLICATE_LIB_OK']='True'"
   ]
  },
  {
   "cell_type": "code",
   "execution_count": 120,
   "metadata": {},
   "outputs": [],
   "source": [
    "def uniform_initializer(out_dim, in_dim, cuda = True):\n",
    "    tensor = torch.empty(out_dim, in_dim)\n",
    "    if cuda:\n",
    "        return torch.nn.init.uniform_(tensor, a=-2, b=2).cuda()\n",
    "    else: \n",
    "        return torch.nn.init.uniform_(tensor, a=-2, b=2)\n",
    "\n",
    "def uniform_initializer2(out_dim, in_dim, cuda = True):\n",
    "    tensor = torch.empty(out_dim, in_dim)\n",
    "    if cuda:\n",
    "        return torch.nn.init.uniform_(tensor, a=-0.5, b=0.5).cuda()\n",
    "    else: \n",
    "        return torch.nn.init.uniform_(tensor, a=-0.5, b=0.5)\n",
    "    \n",
    "def binary_key_initializer(key_length):\n",
    "    return (torch.rand(key_length,1) > 0.5).float()"
   ]
  },
  {
   "cell_type": "code",
   "execution_count": 121,
   "metadata": {},
   "outputs": [
    {
     "name": "stdout",
     "output_type": "stream",
     "text": [
      "torch.Size([32, 1])\n"
     ]
    }
   ],
   "source": [
    "#secret keys\n",
    "#ascii 0-94\n",
    "secret_key = binary_key_initializer(key_length)\n",
    "print(secret_key.shape)"
   ]
  },
  {
   "cell_type": "code",
   "execution_count": 131,
   "metadata": {},
   "outputs": [],
   "source": [
    "# noise \n",
    "def apply_gaussian_noise(tensor, sd, device = torch.device(\"cuda:0\")):\n",
    "    tensor = tensor + (sd)*torch.randn(*tuple(tensor.shape)).to(device)\n",
    "    return tensor\n",
    "\n",
    "class simple_encoder_wthreshold():\n",
    "    def __init__(self, out_dim, in_dim, epsilon, cuda = True):\n",
    "        self.in_dim = in_dim\n",
    "        self.out_dim = out_dim\n",
    "        self.W = uniform_initializer(out_dim, in_dim, cuda)\n",
    "        self.device = torch.device(\"cuda:0\") if cuda else torch.device(\"cpu\")\n",
    "        self.epsilon = epsilon\n",
    "        \n",
    "    def apply(self, X):\n",
    "        return (torch.matmul(self.W, X) > self.epsilon).float()\n",
    "    \n",
    "    def apply_wnoise(self, X, sd):\n",
    "        #print(X.shape, self.W.shape)\n",
    "        if sd == 0:\n",
    "            return self.apply(X)\n",
    "        return (torch.matmul(apply_gaussian_noise(self.W, sd, device = self.device), X) > self.epsilon).float()\n",
    "    \n",
    "    def apply_wnoise_realistic(self, X, sd):\n",
    "        #print(X.shape, self.W.shape)\n",
    "        if sd == 0:\n",
    "            return self.apply(X)\n",
    "        encoded = torch.zeros((self.out_dim, X.shape[1])).to(self.device)\n",
    "        for i in range(X.shape[1]):\n",
    "            encoded[:,i] = (torch.matmul(apply_gaussian_noise(self.W, sd, device = self.device), X[:,i].view(-1,1)) > self.epsilon).float().view(-1)\n",
    "        return encoded\n",
    "    \n"
   ]
  },
  {
   "cell_type": "code",
   "execution_count": 132,
   "metadata": {},
   "outputs": [],
   "source": [
    "#One hot net    \n",
    "\n",
    "class One_hot_net(nn.Module):\n",
    "    def __init__(self, in_dim, n_class, f_encoder, encoder_multiplier, f_initializer, epsilon):\n",
    "        super(One_hot_net, self).__init__()\n",
    "        self.in_dim = in_dim\n",
    "        feature_len = in_dim * encoder_multiplier\n",
    "        self.feature_len = feature_len\n",
    "        self.epsilon = epsilon\n",
    "        self.n_class = n_class\n",
    "        self.f_encoder = f_encoder\n",
    "        self.f_initializer = f_initializer\n",
    "        self.tail = nn.Linear(feature_len, n_class)\n",
    "\n",
    "    def forward(self, X):\n",
    "        X = self.f_encoder.apply_wnoise(X, noise)\n",
    "        X = torch.transpose(X, 0, 1)\n",
    "        X = self.tail(X)\n",
    "        return X.transpose(1,0)\n",
    "    \n",
    "    def decrypt(self, X):\n",
    "        X = torch.transpose(X, 0, 1)\n",
    "        X = self.tail(X)\n",
    "        return (X.transpose(1,0) > 0.5).float()"
   ]
  },
  {
   "cell_type": "code",
   "execution_count": 133,
   "metadata": {},
   "outputs": [],
   "source": [
    "parameters = {\n",
    "    'in_dim': key_length,\n",
    "    'n_class': key_length,\n",
    "    'f_encoder': simple_encoder_wthreshold(key_length*dim_multiplier, key_length, 0),\n",
    "    'f_initializer': uniform_initializer,\n",
    "    'encoder_multiplier': dim_multiplier,\n",
    "    'epsilon': 10e-3,\n",
    "    'n_layers': 1,\n",
    "    'layer_size_factor': [1],\n",
    "    'dropout': [-1]\n",
    "}"
   ]
  },
  {
   "cell_type": "code",
   "execution_count": 134,
   "metadata": {},
   "outputs": [],
   "source": [
    "device = torch.device(\"cuda:0\")\n",
    "model1 = One_hot_net(parameters['in_dim'], parameters['n_class'], parameters['f_encoder'], parameters['encoder_multiplier'], \n",
    "                     parameters['f_initializer'], parameters['epsilon']).to(device)\n",
    "\n",
    "optimizer1 = torch.optim.SGD(model1.parameters(), lr=0.005, momentum=0.5)\n"
   ]
  },
  {
   "cell_type": "code",
   "execution_count": 135,
   "metadata": {},
   "outputs": [
    {
     "name": "stdout",
     "output_type": "stream",
     "text": [
      "2000 torch.Size([32, 50])\n"
     ]
    }
   ],
   "source": [
    "#create training and testing set\n",
    "def make_data(size):\n",
    "    data = (torch.rand(key_length,size) > 0.5).float().to(device)\n",
    "    return [data, torch.logical_xor(data, torch.squeeze(secret_key.to(device)).repeat(size,1).T).float()]\n",
    "\n",
    "n_epochs = 50\n",
    "n_batch = 2000\n",
    "batch_size_train = 50\n",
    "batch_size_test = 50\n",
    "\n",
    "train_loader = [make_data(batch_size_train) for i in range(n_batch)]\n",
    "test_loader = [make_data(batch_size_test) for i in range(n_batch)]\n",
    "\n",
    "print(len(train_loader), train_loader[0][0].shape)"
   ]
  },
  {
   "cell_type": "code",
   "execution_count": 136,
   "metadata": {},
   "outputs": [],
   "source": [
    "train_losses = []\n",
    "test_losses = []"
   ]
  },
  {
   "cell_type": "code",
   "execution_count": 137,
   "metadata": {},
   "outputs": [],
   "source": [
    "def train(epoch, model, optimizer, trainloader, log_interval = 10, device = torch.device(\"cuda:0\")):\n",
    "    model.train()\n",
    "    train_loss = 0\n",
    "    for batch_idx, (label_data, data) in enumerate(train_loader):\n",
    "        data = data.to(device)\n",
    "        optimizer.zero_grad()\n",
    "        output = model(data)\n",
    "        loss = nn.MSELoss()(output, label_data)\n",
    "        loss.backward()\n",
    "        optimizer.step()\n",
    "        train_loss += loss\n",
    "    train_loss /= len(train_loader)\n",
    "    train_losses.append(float(train_loss))\n",
    "    print('Epoch: {}, Train set: Avg. loss: {:.6f}'.format(epoch,\n",
    "        train_loss))\n",
    "    return model, optimizer\n",
    "def test(model, test_loader, device = torch.device(\"cuda:0\")):\n",
    "    model.eval()\n",
    "    test_loss = 0\n",
    "    with torch.no_grad():\n",
    "        for (label_data, data) in test_loader:\n",
    "            data = data.to(device)\n",
    "            output = model(data)\n",
    "            test_loss += nn.MSELoss()(output, label_data).item()\n",
    "    test_loss /= len(test_loader)\n",
    "    test_losses.append(float(test_loss))\n",
    "    #print(output[:,0]-data[:,0])\n",
    "    print('Test set: Avg. loss: {:.6f}'.format(\n",
    "        test_loss))\n",
    "    return test_loss"
   ]
  },
  {
   "cell_type": "code",
   "execution_count": 138,
   "metadata": {},
   "outputs": [
    {
     "name": "stdout",
     "output_type": "stream",
     "text": [
      "Epoch: 1, Train set: Avg. loss: 0.037821\n",
      "Test set: Avg. loss: 0.022398\n",
      "Epoch: 2, Train set: Avg. loss: 0.020164\n",
      "Test set: Avg. loss: 0.018366\n",
      "Epoch: 3, Train set: Avg. loss: 0.016611\n",
      "Test set: Avg. loss: 0.015365\n",
      "Epoch: 4, Train set: Avg. loss: 0.013944\n",
      "Test set: Avg. loss: 0.013079\n",
      "Epoch: 5, Train set: Avg. loss: 0.011903\n",
      "Test set: Avg. loss: 0.011304\n",
      "Epoch: 6, Train set: Avg. loss: 0.010313\n",
      "Test set: Avg. loss: 0.009905\n",
      "Epoch: 7, Train set: Avg. loss: 0.009056\n",
      "Test set: Avg. loss: 0.008787\n",
      "Epoch: 8, Train set: Avg. loss: 0.008051\n",
      "Test set: Avg. loss: 0.007884\n",
      "Epoch: 9, Train set: Avg. loss: 0.007236\n",
      "Test set: Avg. loss: 0.007144\n",
      "Epoch: 10, Train set: Avg. loss: 0.006570\n",
      "Test set: Avg. loss: 0.006536\n",
      "Epoch: 11, Train set: Avg. loss: 0.006021\n",
      "Test set: Avg. loss: 0.006030\n",
      "Epoch: 12, Train set: Avg. loss: 0.005565\n",
      "Test set: Avg. loss: 0.005607\n",
      "Epoch: 13, Train set: Avg. loss: 0.005183\n",
      "Test set: Avg. loss: 0.005250\n",
      "Epoch: 14, Train set: Avg. loss: 0.004861\n",
      "Test set: Avg. loss: 0.004948\n",
      "Epoch: 15, Train set: Avg. loss: 0.004589\n",
      "Test set: Avg. loss: 0.004692\n",
      "Epoch: 16, Train set: Avg. loss: 0.004357\n",
      "Test set: Avg. loss: 0.004472\n",
      "Epoch: 17, Train set: Avg. loss: 0.004159\n",
      "Test set: Avg. loss: 0.004283\n",
      "Epoch: 18, Train set: Avg. loss: 0.003989\n",
      "Test set: Avg. loss: 0.004120\n",
      "Epoch: 19, Train set: Avg. loss: 0.003842\n",
      "Test set: Avg. loss: 0.003978\n",
      "Epoch: 20, Train set: Avg. loss: 0.003714\n",
      "Test set: Avg. loss: 0.003855\n",
      "Epoch: 21, Train set: Avg. loss: 0.003603\n",
      "Test set: Avg. loss: 0.003748\n",
      "Epoch: 22, Train set: Avg. loss: 0.003506\n",
      "Test set: Avg. loss: 0.003654\n",
      "Epoch: 23, Train set: Avg. loss: 0.003422\n",
      "Test set: Avg. loss: 0.003572\n",
      "Epoch: 24, Train set: Avg. loss: 0.003347\n",
      "Test set: Avg. loss: 0.003499\n",
      "Epoch: 25, Train set: Avg. loss: 0.003281\n",
      "Test set: Avg. loss: 0.003434\n",
      "Epoch: 26, Train set: Avg. loss: 0.003223\n",
      "Test set: Avg. loss: 0.003377\n",
      "Epoch: 27, Train set: Avg. loss: 0.003171\n",
      "Test set: Avg. loss: 0.003326\n",
      "Epoch: 28, Train set: Avg. loss: 0.003125\n",
      "Test set: Avg. loss: 0.003281\n",
      "Epoch: 29, Train set: Avg. loss: 0.003083\n",
      "Test set: Avg. loss: 0.003240\n",
      "Epoch: 30, Train set: Avg. loss: 0.003046\n",
      "Test set: Avg. loss: 0.003204\n",
      "Epoch: 31, Train set: Avg. loss: 0.003013\n",
      "Test set: Avg. loss: 0.003171\n",
      "Epoch: 32, Train set: Avg. loss: 0.002983\n",
      "Test set: Avg. loss: 0.003141\n",
      "Epoch: 33, Train set: Avg. loss: 0.002956\n",
      "Test set: Avg. loss: 0.003114\n",
      "Epoch: 34, Train set: Avg. loss: 0.002932\n",
      "Test set: Avg. loss: 0.003090\n",
      "Epoch: 35, Train set: Avg. loss: 0.002910\n",
      "Test set: Avg. loss: 0.003068\n",
      "Epoch: 36, Train set: Avg. loss: 0.002890\n",
      "Test set: Avg. loss: 0.003048\n",
      "Epoch: 37, Train set: Avg. loss: 0.002871\n",
      "Test set: Avg. loss: 0.003030\n",
      "Epoch: 38, Train set: Avg. loss: 0.002854\n",
      "Test set: Avg. loss: 0.003013\n",
      "Epoch: 39, Train set: Avg. loss: 0.002839\n",
      "Test set: Avg. loss: 0.002998\n",
      "Epoch: 40, Train set: Avg. loss: 0.002825\n",
      "Test set: Avg. loss: 0.002984\n",
      "Epoch: 41, Train set: Avg. loss: 0.002812\n",
      "Test set: Avg. loss: 0.002971\n",
      "Epoch: 42, Train set: Avg. loss: 0.002800\n",
      "Test set: Avg. loss: 0.002959\n",
      "Epoch: 43, Train set: Avg. loss: 0.002789\n",
      "Test set: Avg. loss: 0.002948\n",
      "Epoch: 44, Train set: Avg. loss: 0.002779\n",
      "Test set: Avg. loss: 0.002938\n",
      "Epoch: 45, Train set: Avg. loss: 0.002770\n",
      "Test set: Avg. loss: 0.002929\n",
      "Epoch: 46, Train set: Avg. loss: 0.002761\n",
      "Test set: Avg. loss: 0.002920\n",
      "Epoch: 47, Train set: Avg. loss: 0.002753\n",
      "Test set: Avg. loss: 0.002912\n",
      "Epoch: 48, Train set: Avg. loss: 0.002745\n",
      "Test set: Avg. loss: 0.002905\n",
      "Epoch: 49, Train set: Avg. loss: 0.002738\n",
      "Test set: Avg. loss: 0.002898\n",
      "Epoch: 50, Train set: Avg. loss: 0.002732\n",
      "Test set: Avg. loss: 0.002891\n"
     ]
    }
   ],
   "source": [
    "model_name = \"crypto_net1\"\n",
    "for epoch in range(1, n_epochs + 1):\n",
    "    train(epoch, model1, optimizer1, train_loader)\n",
    "    test(model1, test_loader)"
   ]
  },
  {
   "cell_type": "code",
   "execution_count": 139,
   "metadata": {},
   "outputs": [
    {
     "data": {
      "image/png": "[encoded data removed]",
      "text/plain": [
       "<Figure size 432x288 with 1 Axes>"
      ]
     },
     "metadata": {
      "needs_background": "light"
     },
     "output_type": "display_data"
    }
   ],
   "source": [
    "import matplotlib.pyplot as plt\n",
    "\n",
    "plt.plot(range(len(train_losses)), train_losses, color='blue')\n",
    "plt.scatter(range(len(test_losses)), test_losses, color='red')\n",
    "plt.legend(['Train Loss', 'Test Loss'], loc='upper right')\n",
    "plt.xlabel('number of training epochs')\n",
    "plt.ylabel('MSE loss')\n",
    "plt.show()"
   ]
  },
  {
   "cell_type": "code",
   "execution_count": 165,
   "metadata": {},
   "outputs": [
    {
     "name": "stdout",
     "output_type": "stream",
     "text": [
      "tensor([[0., 0., 1., 1., 1., 0., 1., 0., 1., 1., 0., 0., 1., 0., 1., 0., 1., 0.,\n",
      "         1., 0., 1., 0., 1., 1., 0., 1., 0., 1., 1., 1., 1., 1.]])\n"
     ]
    }
   ],
   "source": [
    "#Testing Encoded sentence\n",
    "#message = \"It is time to test the model on real-world data\"#. We must choose a sentence and an image. We choose the following sentence from Wikipedia: Anthony Edward \\\"Tony\\\" Stark is a character portrayed by Robert Downey Jr. in the MCU film franchise and for the image, we use the same Tony Stark’s image from the beginning of the article. The following code is used to embedding and extracting the message:\"\n",
    "message = (torch.rand(key_length,1) > 0.5).float()\n",
    "#message = \n",
    "print(message.T)"
   ]
  },
  {
   "cell_type": "code",
   "execution_count": null,
   "metadata": {},
   "outputs": [],
   "source": []
  },
  {
   "cell_type": "code",
   "execution_count": 166,
   "metadata": {},
   "outputs": [],
   "source": [
    "def encrypt(message, model, secret_key, n = noise):\n",
    "    secret_message = torch.logical_xor(message.to(device), secret_key.to(device)).float()\n",
    "    return model.f_encoder.apply_wnoise_realistic(secret_message, n)"
   ]
  },
  {
   "cell_type": "code",
   "execution_count": 167,
   "metadata": {},
   "outputs": [],
   "source": [
    "encrypted_message = encrypt(message, model1, secret_key, n = 0.8)"
   ]
  },
  {
   "cell_type": "code",
   "execution_count": 168,
   "metadata": {},
   "outputs": [
    {
     "name": "stdout",
     "output_type": "stream",
     "text": [
      "tensor([[0.],\n",
      "        [1.],\n",
      "        [1.],\n",
      "        ...,\n",
      "        [1.],\n",
      "        [1.],\n",
      "        [0.]], device='cuda:0') torch.Size([3200, 1])\n"
     ]
    }
   ],
   "source": [
    "print(encrypted_message, encrypted_message.shape)"
   ]
  },
  {
   "cell_type": "code",
   "execution_count": 169,
   "metadata": {},
   "outputs": [],
   "source": [
    "# plt.imshow(encrypted_message.cpu().detach().numpy(),  cmap=plt.cm.gray)"
   ]
  },
  {
   "cell_type": "code",
   "execution_count": null,
   "metadata": {},
   "outputs": [],
   "source": []
  },
  {
   "cell_type": "code",
   "execution_count": 170,
   "metadata": {},
   "outputs": [
    {
     "name": "stdout",
     "output_type": "stream",
     "text": [
      "tensor([[0., 0., 1., 1., 1., 0., 1., 0., 1., 1., 0., 0., 1., 0., 1., 0., 1., 0.,\n",
      "         1., 0., 1., 0., 1., 1., 0., 1., 0., 1., 1., 1., 1., 1.]],\n",
      "       device='cuda:0')\n",
      "decryption accuracy is 100.0%\n"
     ]
    }
   ],
   "source": [
    "decrypted_m = model1.decrypt(encrypted_message)\n",
    "print(decrypted_m.T)\n",
    "def decryption_accuracy(message, decrypted_message):\n",
    "    count = 0\n",
    "    message = message.to(device)\n",
    "    decrypted_message = decrypted_message.to(device)\n",
    "    for i in range(len(message)):\n",
    "        if message[i] == decrypted_message[i]:\n",
    "            count+=1\n",
    "    return count/len(message) * 100\n",
    "print(\"decryption accuracy is {}%\".format(round(decryption_accuracy(message, decrypted_m), 2)))"
   ]
  },
  {
   "cell_type": "code",
   "execution_count": null,
   "metadata": {},
   "outputs": [],
   "source": []
  },
  {
   "cell_type": "code",
   "execution_count": 177,
   "metadata": {},
   "outputs": [
    {
     "data": {
      "image/png": "[encoded data removed]",
      "text/plain": [
       "<Figure size 432x288 with 2 Axes>"
      ]
     },
     "metadata": {
      "needs_background": "light"
     },
     "output_type": "display_data"
    },
    {
     "data": {
      "image/png": "[encoded data removed]",
      "text/plain": [
       "<Figure size 432x288 with 2 Axes>"
      ]
     },
     "metadata": {
      "needs_background": "light"
     },
     "output_type": "display_data"
    },
    {
     "data": {
      "image/png": "[encoded data removed]",
      "text/plain": [
       "<Figure size 432x288 with 2 Axes>"
      ]
     },
     "metadata": {
      "needs_background": "light"
     },
     "output_type": "display_data"
    }
   ],
   "source": [
    "#Visualize variance caused by noise\n",
    "def visualize(message, model, secret_key, n = noise):\n",
    "    encrypted_message = torch.zeros(key_length*dim_multiplier,1000)\n",
    "    for i in range(1000):\n",
    "        encrypted_message[:,i] = torch.squeeze(encrypt(message, model, secret_key, n = n))\n",
    "    #print(encrypted_message)\n",
    "    #print(torch.sum(encrypted_message[:,1]-encrypted_message[:,0]))\n",
    "    plt.imshow(encrypted_message.cpu().detach().numpy(),  cmap=plt.cm.gray)\n",
    "    plt.colorbar()\n",
    "    plt.show()\n",
    "\n",
    "visualize(message, model1, secret_key, n = 0)\n",
    "visualize(message, model1, secret_key, n = 0.8)\n",
    "visualize(message, model1, secret_key, n = 2)"
   ]
  },
  {
   "cell_type": "code",
   "execution_count": 202,
   "metadata": {},
   "outputs": [
    {
     "name": "stdout",
     "output_type": "stream",
     "text": [
      "[41, 84, 0, 73, 83, 0, 84, 73, 77, 69, 0, 84, 79, 0, 84, 69, 83, 84, 0, 84, 72, 69, 0, 77, 79, 68, 69, 76, 0, 79, 78, 0, 82, 69, 65, 76, 13, 87, 79, 82, 76, 68, 0, 68, 65, 84, 65]\n",
      "tensor([-5.3554e-01, -6.1449e-04,  1.4492e-01, -5.5073e-01,  1.0839e+00,\n",
      "        -1.1452e+00,  2.3126e-01, -1.5485e-01, -1.0052e+00,  9.9301e-01],\n",
      "       device='cuda:0', grad_fn=<SubBackward0>)\n"
     ]
    }
   ],
   "source": [
    "#message_index = [(ord(c)-32) for c in message]\n",
    "#print(message_index)\n",
    "#secret_message = secret_key[:, message_index]#.to(device)\n",
    "#output = model1(secret_message)\n",
    "#print(output[:,0]-secret_message[:,0])"
   ]
  },
  {
   "cell_type": "code",
   "execution_count": null,
   "metadata": {},
   "outputs": [],
   "source": []
  }
 ],
 "metadata": {
  "kernelspec": {
   "display_name": "Python 3",
   "language": "python",
   "name": "python3"
  },
  "language_info": {
   "codemirror_mode": {
    "name": "ipython",
    "version": 3
   },
   "file_extension": ".py",
   "mimetype": "text/x-python",
   "name": "python",
   "nbconvert_exporter": "python",
   "pygments_lexer": "ipython3",
   "version": "3.8.5"
  }
 },
 "nbformat": 4,
 "nbformat_minor": 4
}
