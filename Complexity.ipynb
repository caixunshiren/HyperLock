{
 "cells": [
  {
   "cell_type": "code",
   "execution_count": 1,
   "metadata": {},
   "outputs": [
    {
     "data": {
      "text/plain": [
       "<torch._C.Generator at 0x2c89fc31210>"
      ]
     },
     "execution_count": 1,
     "metadata": {},
     "output_type": "execute_result"
    }
   ],
   "source": [
    "import torch\n",
    "import torchvision\n",
    "import torch.nn as nn\n",
    "import torch.nn.functional as F\n",
    "import numpy as np\n",
    "torch.cuda.empty_cache()\n",
    "\n",
    "import matplotlib.pyplot as plt\n",
    "import matplotlib\n",
    "matplotlib.rc('font', serif='Arial') \n",
    "import os    \n",
    "os.environ['KMP_DUPLICATE_LIB_OK']='True'\n",
    "random_seed = 420\n",
    "torch.manual_seed(random_seed)"
   ]
  },
  {
   "cell_type": "code",
   "execution_count": 213,
   "metadata": {},
   "outputs": [],
   "source": [
    "def uniform_initializer(out_dim, in_dim, cuda = True):\n",
    "    tensor = torch.empty(out_dim, in_dim)\n",
    "    if cuda:\n",
    "        return torch.nn.init.uniform_(tensor, a=-2, b=2).cuda()\n",
    "    else: \n",
    "        return torch.nn.init.uniform_(tensor, a=-2, b=2)\n",
    "    \n",
    "def apply_gaussian_noise(tensor, sd, device = torch.device(\"cuda:0\")):\n",
    "    tensor = tensor + (sd)*torch.randn(*tuple(tensor.shape)).to(device)\n",
    "    return tensor\n",
    "\n",
    "class simple_encoder_wthreshold():\n",
    "    def __init__(self, out_dim, in_dim, epsilon, cuda = True):\n",
    "        self.in_dim = in_dim\n",
    "        self.out_dim = out_dim\n",
    "        self.W = uniform_initializer(out_dim, in_dim, cuda)\n",
    "        self.device = torch.device(\"cuda:0\") if cuda else torch.device(\"cpu\")\n",
    "        self.epsilon = epsilon\n",
    "        \n",
    "    def apply(self, X):\n",
    "        return (torch.matmul(self.W, X) > self.epsilon).float()\n",
    "    \n",
    "    def apply_wnoise(self, X, sd):\n",
    "        #print(X.shape, self.W.shape)\n",
    "        if sd == 0:\n",
    "            return self.apply(X)\n",
    "        return (torch.matmul(apply_gaussian_noise(self.W, sd, device = self.device), X) > self.epsilon).float()\n",
    "    \n",
    "    def apply_wnoise_realistic(self, X, sd):\n",
    "        #print(X.shape, self.W.shape)\n",
    "        if sd == 0:\n",
    "            return self.apply(X)\n",
    "        encoded = torch.zeros((self.out_dim, X.shape[1])).to(self.device)\n",
    "        for i in range(X.shape[1]):\n",
    "            encoded[:,i] = (torch.matmul(apply_gaussian_noise(self.W, sd, device = self.device), X[:,i].view(-1,1)) > self.epsilon).float().view(-1)\n",
    "        return encoded"
   ]
  },
  {
   "cell_type": "code",
   "execution_count": 214,
   "metadata": {},
   "outputs": [
    {
     "name": "stdout",
     "output_type": "stream",
     "text": [
      "tensor([[ 1.4663,  1.5043, -0.2077,  ...,  1.5154,  1.5975,  1.9062],\n",
      "        [-1.9846, -1.4811,  1.0436,  ...,  1.7526,  1.6417, -0.9107],\n",
      "        [ 1.7329, -1.1750,  0.6276,  ..., -1.8468,  0.7517,  1.2878],\n",
      "        ...,\n",
      "        [-0.3912,  1.6260, -0.7426,  ...,  1.0998,  0.6700,  1.3427],\n",
      "        [ 1.3211,  1.9792, -0.3886,  ..., -1.2719,  0.3401,  0.4622],\n",
      "        [ 0.1583, -0.7971, -1.7115,  ..., -0.3344, -1.9571,  1.5286]])\n"
     ]
    }
   ],
   "source": [
    "in_dim = 40\n",
    "out_dim =2000\n",
    "vector = uniform_initializer(in_dim, 1, cuda = False)\n",
    "encoder = simple_encoder_wthreshold(out_dim, in_dim, 0, cuda = False)\n",
    "print(tensor)"
   ]
  },
  {
   "cell_type": "code",
   "execution_count": 215,
   "metadata": {},
   "outputs": [
    {
     "name": "stdout",
     "output_type": "stream",
     "text": [
      "0.0006018169999879319\n"
     ]
    }
   ],
   "source": [
    "import time\n",
    "total = 0\n",
    "for i in range(100):\n",
    "    tic = time.perf_counter()\n",
    "    R = encoder.apply_wnoise(vector, sd=0.5)\n",
    "    toc = time.perf_counter()\n",
    "    total += (toc-tic)\n",
    "print(total/100)"
   ]
  },
  {
   "cell_type": "code",
   "execution_count": null,
   "metadata": {},
   "outputs": [],
   "source": [
    "\n"
   ]
  },
  {
   "cell_type": "code",
   "execution_count": null,
   "metadata": {},
   "outputs": [],
   "source": []
  }
 ],
 "metadata": {
  "kernelspec": {
   "display_name": "Python 3",
   "language": "python",
   "name": "python3"
  },
  "language_info": {
   "codemirror_mode": {
    "name": "ipython",
    "version": 3
   },
   "file_extension": ".py",
   "mimetype": "text/x-python",
   "name": "python",
   "nbconvert_exporter": "python",
   "pygments_lexer": "ipython3",
   "version": "3.8.5"
  }
 },
 "nbformat": 4,
 "nbformat_minor": 4
}
